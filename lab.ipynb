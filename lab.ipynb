{
 "cells": [
  {
   "cell_type": "code",
   "execution_count": 10,
   "metadata": {},
   "outputs": [],
   "source": [
    "from datetime import datetime, timedelta"
   ]
  },
  {
   "cell_type": "code",
   "execution_count": 11,
   "metadata": {},
   "outputs": [],
   "source": [
    "# def age(birthdate):\n",
    "#     # Get today's date object\n",
    "#     today = date.today()\n",
    "    \n",
    "#     # A bool that represents if today's day/month precedes the birth day/month\n",
    "#     one_or_zero = ((today.month, today.day) < (birthdate.month, birthdate.day))\n",
    "#     print((today.month, today.day))\n",
    "#     print((birthdate.month, birthdate.day))\n",
    "    \n",
    "#     # Calculate the difference in years from the date object's components\n",
    "#     year_difference = today.year - birthdate.year\n",
    "    \n",
    "#     # The difference in years is not enough. \n",
    "#     # To get it right, subtract 1 or 0 based on if today precedes the \n",
    "#     # birthdate's month/day.\n",
    "    \n",
    "#     # To do this, subtract the 'one_or_zero' boolean \n",
    "#     # from 'year_difference'. (This converts\n",
    "#     # True to 1 and False to 0 under the hood.)\n",
    "#     age = year_difference - one_or_zero\n",
    "    \n",
    "#     return age"
   ]
  },
  {
   "cell_type": "code",
   "execution_count": 12,
   "metadata": {},
   "outputs": [],
   "source": [
    "# age(date(2023, 1, 1))"
   ]
  },
  {
   "cell_type": "code",
   "execution_count": 8,
   "metadata": {},
   "outputs": [
    {
     "data": {
      "text/plain": [
       "9"
      ]
     },
     "execution_count": 8,
     "metadata": {},
     "output_type": "execute_result"
    }
   ],
   "source": [
    "10-((1, 22)>(1, 1))"
   ]
  },
  {
   "cell_type": "code",
   "execution_count": 25,
   "metadata": {},
   "outputs": [],
   "source": [
    "def age_in_years_months(birthdate):\n",
    "    today = datetime.now()\n",
    "    age_in_days = (today - birthdate).days\n",
    "    age_in_months = int(age_in_days / 30.436875)\n",
    "    years, months = divmod(age_in_months, 12)\n",
    "    days = today.day - birthdate.day\n",
    "    if years == 0 and months != 0:\n",
    "        return f\"{months} m\"\n",
    "    elif years == 0 and months == 0:\n",
    "        return f\"{days} days\"\n",
    "    else:\n",
    "        return f\"{years} yrs, {months} m.\""
   ]
  },
  {
   "cell_type": "code",
   "execution_count": 26,
   "metadata": {},
   "outputs": [
    {
     "data": {
      "text/plain": [
       "'17 days'"
      ]
     },
     "execution_count": 26,
     "metadata": {},
     "output_type": "execute_result"
    }
   ],
   "source": [
    "age_in_years_months(datetime(2023,1,5))"
   ]
  },
  {
   "cell_type": "code",
   "execution_count": null,
   "metadata": {},
   "outputs": [],
   "source": []
  }
 ],
 "metadata": {
  "kernelspec": {
   "display_name": ".djangodocker",
   "language": "python",
   "name": "python3"
  },
  "language_info": {
   "codemirror_mode": {
    "name": "ipython",
    "version": 3
   },
   "file_extension": ".py",
   "mimetype": "text/x-python",
   "name": "python",
   "nbconvert_exporter": "python",
   "pygments_lexer": "ipython3",
   "version": "3.9.13"
  },
  "orig_nbformat": 4,
  "vscode": {
   "interpreter": {
    "hash": "e7a214cb2b1aac36a1dadd8e1b9991f8607acae888dfc44af5c7f500598c3c11"
   }
  }
 },
 "nbformat": 4,
 "nbformat_minor": 2
}
